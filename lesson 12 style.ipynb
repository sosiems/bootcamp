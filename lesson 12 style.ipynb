{
 "cells": [
  {
   "cell_type": "code",
   "execution_count": 1,
   "id": "5d4aa9d6-ec85-47ef-b0b3-c1ebbbe590a9",
   "metadata": {},
   "outputs": [],
   "source": [
    "%load_ext blackcellmagic\n",
    "\n",
    "import numpy as np"
   ]
  },
  {
   "cell_type": "code",
   "execution_count": 2,
   "id": "ed0866f8-70b0-418c-b2f8-19217db45d57",
   "metadata": {},
   "outputs": [
    {
     "name": "stdout",
     "output_type": "stream",
     "text": [
      "The Zen of Python, by Tim Peters\n",
      "\n",
      "Beautiful is better than ugly.\n",
      "Explicit is better than implicit.\n",
      "Simple is better than complex.\n",
      "Complex is better than complicated.\n",
      "Flat is better than nested.\n",
      "Sparse is better than dense.\n",
      "Readability counts.\n",
      "Special cases aren't special enough to break the rules.\n",
      "Although practicality beats purity.\n",
      "Errors should never pass silently.\n",
      "Unless explicitly silenced.\n",
      "In the face of ambiguity, refuse the temptation to guess.\n",
      "There should be one-- and preferably only one --obvious way to do it.\n",
      "Although that way may not be obvious at first unless you're Dutch.\n",
      "Now is better than never.\n",
      "Although never is often better than *right* now.\n",
      "If the implementation is hard to explain, it's a bad idea.\n",
      "If the implementation is easy to explain, it may be a good idea.\n",
      "Namespaces are one honking great idea -- let's do more of those!\n"
     ]
    }
   ],
   "source": [
    "import this"
   ]
  },
  {
   "cell_type": "code",
   "execution_count": 3,
   "id": "1e877b38-4263-4026-9dc2-f45c91cb62be",
   "metadata": {},
   "outputs": [
    {
     "name": "stdout",
     "output_type": "stream",
     "text": [
      "The start codon starts at index 10\n"
     ]
    }
   ],
   "source": [
    "seq='AUCUGUACUAAUGCUCAGCACGACGUACG'\n",
    "c='AUG'  # This is the start codon\n",
    "i =0  # Initialize sequence index\n",
    "while seq[ i : i + 3 ]!=c:\n",
    "    i+=1\n",
    "\n",
    "print('The start codon starts at index', i)"
   ]
  },
  {
   "cell_type": "code",
   "execution_count": 4,
   "id": "31e8cfd0-185d-47d2-980a-f16954c2b71f",
   "metadata": {},
   "outputs": [
    {
     "name": "stdout",
     "output_type": "stream",
     "text": [
      "The start codon starts at index 10\n"
     ]
    }
   ],
   "source": [
    "start_codon = 'AUG'\n",
    "\n",
    "# Initialize sequence index for while loop\n",
    "i = 0\n",
    "\n",
    "# Scan sequence until we hit the start codon\n",
    "while seq[i:i+3] != start_codon:\n",
    "    i += 1\n",
    "\n",
    "print('The start codon starts at index', i)"
   ]
  },
  {
   "cell_type": "code",
   "execution_count": 5,
   "id": "d0300b40-43d4-4d60-99c4-16fcad64fc98",
   "metadata": {},
   "outputs": [],
   "source": [
    "aa = { 'A' : 'Ala' , 'R' : 'Arg' , 'N' : 'Asn' , 'D' : 'Asp' , 'C' : 'Cys' , 'Q' : 'Gln' , 'E' : 'Glu' , 'G' : 'Gly' , 'H' : 'His' , 'I' : 'Ile' , 'L' : 'Leu' , 'K' : 'Lys' , 'M' : 'Met' , 'F' : 'Phe' , 'P' : 'Pro' , 'S' : 'Ser' , 'T' : 'Thr' , 'W' : 'Trp' , 'Y' : 'Tyr' , 'V' : 'Val' }"
   ]
  },
  {
   "cell_type": "code",
   "execution_count": 6,
   "id": "c96500bc-4965-447d-953b-d615ead0755d",
   "metadata": {},
   "outputs": [],
   "source": [
    "aa = {\n",
    "    \"A\": \"Ala\",\n",
    "    \"R\": \"Arg\",\n",
    "    \"N\": \"Asn\",\n",
    "    \"D\": \"Asp\",\n",
    "    \"C\": \"Cys\",\n",
    "    \"Q\": \"Gln\",\n",
    "    \"E\": \"Glu\",\n",
    "    \"G\": \"Gly\",\n",
    "    \"H\": \"His\",\n",
    "    \"I\": \"Ile\",\n",
    "    \"L\": \"Leu\",\n",
    "    \"K\": \"Lys\",\n",
    "    \"M\": \"Met\",\n",
    "    \"F\": \"Phe\",\n",
    "    \"P\": \"Pro\",\n",
    "    \"S\": \"Ser\",\n",
    "    \"T\": \"Thr\",\n",
    "    \"W\": \"Trp\",\n",
    "    \"Y\": \"Tyr\",\n",
    "    \"V\": \"Val\",\n",
    "}"
   ]
  },
  {
   "cell_type": "code",
   "execution_count": 7,
   "id": "cd780c2c-4c34-4f7e-93eb-cdb2c0a108b2",
   "metadata": {},
   "outputs": [],
   "source": [
    "def qf(a, b, c):\n",
    "    return -(b-np.sqrt(b**2-4*a*c))/2/a, (-b-np.sqrt(b**2-4*a*c))/2/a"
   ]
  },
  {
   "cell_type": "code",
   "execution_count": 8,
   "id": "ca7c77e8-bca6-480d-b3e1-1be00694a797",
   "metadata": {},
   "outputs": [
    {
     "data": {
      "text/plain": [
       "(np.float64(3.0), np.float64(-1.5))"
      ]
     },
     "execution_count": 8,
     "metadata": {},
     "output_type": "execute_result"
    }
   ],
   "source": [
    "qf(2, -3, -9)"
   ]
  },
  {
   "cell_type": "code",
   "execution_count": 9,
   "id": "8c6c27a2-97f5-4d8c-9dc5-dbfbc8629cbc",
   "metadata": {},
   "outputs": [],
   "source": [
    "def quadratic_roots(a, b, c):\n",
    "    \"\"\"Real roots of a second order polynomial.\"\"\"\n",
    "    # Compute square root of the discriminant\n",
    "    sqrt_disc = np.sqrt(b**2 - 4*a*c)\n",
    "\n",
    "    # Compute two roots\n",
    "    root_1 = (-b + sqrt_disc) / (2*a)\n",
    "    root_2 = (-b - sqrt_disc) / (2*a)\n",
    "\n",
    "    return root_1, root_2"
   ]
  },
  {
   "cell_type": "code",
   "execution_count": 10,
   "id": "aae9b295-3dda-476d-be5a-27e3e5418b60",
   "metadata": {},
   "outputs": [
    {
     "data": {
      "text/plain": [
       "(np.float64(3.0), np.float64(-1.5))"
      ]
     },
     "execution_count": 10,
     "metadata": {},
     "output_type": "execute_result"
    }
   ],
   "source": [
    "quadratic_roots(2, -3, -9)"
   ]
  },
  {
   "cell_type": "code",
   "execution_count": 11,
   "id": "e0647a13-dab0-4f64-80f7-75562039493f",
   "metadata": {},
   "outputs": [],
   "source": [
    "seq = \"AUCUGUACUAAUGCUCAGCACGACGUACG\"\n",
    "c = \"AUG\"  # This is the start codon\n",
    "i = 0  # Initialize sequence index\n",
    "while seq[i : i + 3] != c:\n",
    "    i += 1\n",
    "\n",
    "print(\"The start codon starts at index\", i)"
   ]
  },
  {
   "cell_type": "code",
   "execution_count": 13,
   "id": "861cb2bd-82a2-405f-a163-3fe19808219e",
   "metadata": {},
   "outputs": [],
   "source": [
    "start_codon = \"AUG\"\n",
    "\n",
    "# Initialize sequence index for while loop\n",
    "i = 0\n",
    "\n",
    "# Scan sequence until we hit the start codon\n",
    "while seq[i : i + 3] != start_codon:\n",
    "    i += 1\n",
    "\n",
    "print(\"The start codon starts at index\", i)"
   ]
  },
  {
   "cell_type": "code",
   "execution_count": null,
   "id": "2448884a-a784-4f5b-8093-5ac11ca0d7d4",
   "metadata": {},
   "outputs": [],
   "source": []
  }
 ],
 "metadata": {
  "kernelspec": {
   "display_name": "venv-3.10",
   "language": "python",
   "name": "venv-3.10"
  },
  "language_info": {
   "codemirror_mode": {
    "name": "ipython",
    "version": 3
   },
   "file_extension": ".py",
   "mimetype": "text/x-python",
   "name": "python",
   "nbconvert_exporter": "python",
   "pygments_lexer": "ipython3",
   "version": "3.10.15"
  }
 },
 "nbformat": 4,
 "nbformat_minor": 5
}
