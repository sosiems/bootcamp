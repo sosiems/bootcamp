{
 "cells": [
  {
   "cell_type": "code",
   "execution_count": 1,
   "id": "0bdc74e3-244c-460c-a7a9-c17ebc0f8173",
   "metadata": {},
   "outputs": [],
   "source": [
    "import warnings\n",
    "import bootcamp_utils"
   ]
  },
  {
   "cell_type": "code",
   "execution_count": 3,
   "id": "bf80ffdb-7b68-40bc-9343-fea09139ee37",
   "metadata": {},
   "outputs": [
    {
     "ename": "TypeError",
     "evalue": "'str' object does not support item assignment",
     "output_type": "error",
     "traceback": [
      "\u001b[0;31m---------------------------------------------------------------------------\u001b[0m",
      "\u001b[0;31mTypeError\u001b[0m                                 Traceback (most recent call last)",
      "Cell \u001b[0;32mIn[3], line 2\u001b[0m\n\u001b[1;32m      1\u001b[0m my_str \u001b[38;5;241m=\u001b[39m \u001b[38;5;124m'\u001b[39m\u001b[38;5;124mAGCTATC\u001b[39m\u001b[38;5;124m'\u001b[39m\n\u001b[0;32m----> 2\u001b[0m \u001b[43mmy_str\u001b[49m\u001b[43m[\u001b[49m\u001b[38;5;241;43m3\u001b[39;49m\u001b[43m]\u001b[49m \u001b[38;5;241m=\u001b[39m \u001b[38;5;124m'\u001b[39m\u001b[38;5;124mG\u001b[39m\u001b[38;5;124m'\u001b[39m\n",
      "\u001b[0;31mTypeError\u001b[0m: 'str' object does not support item assignment"
     ]
    }
   ],
   "source": [
    "my_str = 'AGCTATC'\n",
    "my_str[3] = 'G'"
   ]
  },
  {
   "cell_type": "code",
   "execution_count": 4,
   "id": "19959b5d-15fd-4683-8147-3734750b6e83",
   "metadata": {},
   "outputs": [],
   "source": [
    "def add_two_things(a, b):\n",
    "    \"\"\" add two numbers.\"\"\"\n",
    "    return a + b\n"
   ]
  },
  {
   "cell_type": "code",
   "execution_count": 5,
   "id": "45d0df78-3a26-496d-b1f3-c4c3ea9a29cb",
   "metadata": {},
   "outputs": [
    {
     "data": {
      "text/plain": [
       "13"
      ]
     },
     "execution_count": 5,
     "metadata": {},
     "output_type": "execute_result"
    }
   ],
   "source": [
    "add_two_things(6, 7)"
   ]
  },
  {
   "cell_type": "code",
   "execution_count": 6,
   "id": "86c1c13b-51ce-4f63-9e64-88be983b3cc2",
   "metadata": {},
   "outputs": [
    {
     "ename": "TypeError",
     "evalue": "can only concatenate str (not \"float\") to str",
     "output_type": "error",
     "traceback": [
      "\u001b[0;31m---------------------------------------------------------------------------\u001b[0m",
      "\u001b[0;31mTypeError\u001b[0m                                 Traceback (most recent call last)",
      "Cell \u001b[0;32mIn[6], line 1\u001b[0m\n\u001b[0;32m----> 1\u001b[0m \u001b[43madd_two_things\u001b[49m\u001b[43m(\u001b[49m\u001b[38;5;124;43m'\u001b[39;49m\u001b[38;5;124;43ma string\u001b[39;49m\u001b[38;5;124;43m'\u001b[39;49m\u001b[43m,\u001b[49m\u001b[43m \u001b[49m\u001b[38;5;241;43m5.7\u001b[39;49m\u001b[43m)\u001b[49m\n",
      "Cell \u001b[0;32mIn[4], line 3\u001b[0m, in \u001b[0;36madd_two_things\u001b[0;34m(a, b)\u001b[0m\n\u001b[1;32m      1\u001b[0m \u001b[38;5;28;01mdef\u001b[39;00m \u001b[38;5;21madd_two_things\u001b[39m(a, b):\n\u001b[1;32m      2\u001b[0m \u001b[38;5;250m    \u001b[39m\u001b[38;5;124;03m\"\"\" add two numbers.\"\"\"\u001b[39;00m\n\u001b[0;32m----> 3\u001b[0m     \u001b[38;5;28;01mreturn\u001b[39;00m \u001b[43ma\u001b[49m\u001b[43m \u001b[49m\u001b[38;5;241;43m+\u001b[39;49m\u001b[43m \u001b[49m\u001b[43mb\u001b[49m\n",
      "\u001b[0;31mTypeError\u001b[0m: can only concatenate str (not \"float\") to str"
     ]
    }
   ],
   "source": [
    "add_two_things('a string', 5.7)"
   ]
  },
  {
   "cell_type": "code",
   "execution_count": 7,
   "id": "e5bf73f4-d381-4f6f-9d52-1c05cda7d746",
   "metadata": {},
   "outputs": [
    {
     "name": "stdout",
     "output_type": "stream",
     "text": [
      "We expect [1, 2, 3]\n",
      "We get  [1, 1, 2, 2, 3, 3]\n"
     ]
    }
   ],
   "source": [
    "# a function to append a list onto itself with intention of returning a new list, but leaving input unaltered\n",
    "def double_list(in_list):\n",
    "    \"\"\" append a list to itself.\"\"\"\n",
    "    in_list += in_list\n",
    "    return in_list\n",
    "\n",
    "# make a list\n",
    "my_list = [3, 2, 1]\n",
    "\n",
    "#double it\n",
    "my_list_double = double_list(my_list)\n",
    "\n",
    "# later on in our program, we want a sorted my_list\n",
    "my_list.sort()\n",
    "\n",
    "#let's look at my_list:\n",
    "print('We expect [1, 2, 3]')\n",
    "print('We get ', my_list)"
   ]
  },
  {
   "cell_type": "code",
   "execution_count": 8,
   "id": "b10e27ff-af84-4b30-8bb6-204d743e2ba2",
   "metadata": {},
   "outputs": [
    {
     "name": "stdout",
     "output_type": "stream",
     "text": [
      "16\n"
     ]
    }
   ],
   "source": [
    "# Try to get the gc_content module\n",
    "try:\n",
    "    import gc_content\n",
    "    have_gc = True\n",
    "except ImportError as e:\n",
    "    have_gc = False\n",
    "finally:\n",
    "    # Do whatever is necessary here, like close files\n",
    "    pass\n",
    "\n",
    "seq = 'ACGATCTACGATCAGCTGCGCGCATCG'\n",
    "\n",
    "if have_gc:\n",
    "    print(gc_content(seq))\n",
    "else:\n",
    "    print(seq.count('G') + seq.count('C'))"
   ]
  },
  {
   "cell_type": "code",
   "execution_count": 9,
   "id": "83110565-4297-4769-941c-0e6dfaf62cf1",
   "metadata": {},
   "outputs": [
    {
     "name": "stdout",
     "output_type": "stream",
     "text": [
      "16\n"
     ]
    },
    {
     "name": "stderr",
     "output_type": "stream",
     "text": [
      "/var/folders/nn/vjtbqg212tq_6_t12y9v5_6c0000gn/T/ipykernel_98220/3620265156.py:8: UserWarning: Failed to load gc_content. Using custom function.\n",
      "  warnings.warn(\n"
     ]
    }
   ],
   "source": [
    "# Try to get the gc_content module\n",
    "try:\n",
    "    import gc_content\n",
    "\n",
    "    have_gc = True\n",
    "except ImportError as e:\n",
    "    have_gc = False\n",
    "    warnings.warn(\n",
    "        \"Failed to load gc_content. Using custom function.\", UserWarning\n",
    "    )\n",
    "finally:\n",
    "    pass\n",
    "\n",
    "seq = \"ACGATCTACGATCAGCTGCGCGCATCG\"\n",
    "\n",
    "if have_gc:\n",
    "    print(gc_content(seq))\n",
    "else:\n",
    "    print(seq.count(\"G\") + seq.count(\"C\"))"
   ]
  },
  {
   "cell_type": "code",
   "execution_count": 12,
   "id": "aa17e990-388b-488e-b9b0-d9a164e9eb43",
   "metadata": {},
   "outputs": [],
   "source": [
    "def one_to_three(seq):\n",
    "    \"\"\"\n",
    "    Converts a protein sequence using one-letter abbreviations\n",
    "    to one using three-letter abbreviations.\n",
    "    \"\"\"\n",
    "    # Convert seq to upper case\n",
    "    seq = seq.upper()\n",
    "\n",
    "    aa_list = []\n",
    "    for amino_acid in seq:\n",
    "        # Check if the `amino_acid` is in our dictionary `bootcamp_utils.aa`\n",
    "        if amino_acid not in bootcamp_utils.aa.keys():\n",
    "            raise RuntimeError(f\"{amino_acid} is not a valid amino acid\")\n",
    "        # Add the `amino_acid` to our aa_list\n",
    "        aa_list.append(bootcamp_utils.aa[amino_acid])\n",
    "\n",
    "    # Return the amino acids, joined together, with a dash as a separator.\n",
    "    return \"-\".join(aa_list)"
   ]
  },
  {
   "cell_type": "code",
   "execution_count": null,
   "id": "8718071f-052f-4599-be1f-48a41fb6188e",
   "metadata": {},
   "outputs": [],
   "source": []
  }
 ],
 "metadata": {
  "kernelspec": {
   "display_name": "venv-3.10",
   "language": "python",
   "name": "venv-3.10"
  },
  "language_info": {
   "codemirror_mode": {
    "name": "ipython",
    "version": 3
   },
   "file_extension": ".py",
   "mimetype": "text/x-python",
   "name": "python",
   "nbconvert_exporter": "python",
   "pygments_lexer": "ipython3",
   "version": "3.10.15"
  }
 },
 "nbformat": 4,
 "nbformat_minor": 5
}
