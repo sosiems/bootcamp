{
 "cells": [
  {
   "cell_type": "code",
   "execution_count": 10,
   "id": "901971db-ce04-482f-a200-b10cd9e0fee6",
   "metadata": {},
   "outputs": [],
   "source": [
    "def number_negatives(seq):\n",
    "    \"\"\" number of negative residues a protein sequence\"\"\"\n",
    "    # count E's and D's since these are the negative residues\n",
    "    seq = seq.upper()\n",
    "    return seq.count('E') + seq.count('D')"
   ]
  },
  {
   "cell_type": "code",
   "execution_count": 11,
   "id": "c1f6d532-9707-420e-b6a6-587ce63c6d21",
   "metadata": {},
   "outputs": [
    {
     "data": {
      "text/plain": [
       "True"
      ]
     },
     "execution_count": 11,
     "metadata": {},
     "output_type": "execute_result"
    }
   ],
   "source": [
    "number_negatives('E') == 1\n"
   ]
  },
  {
   "cell_type": "code",
   "execution_count": 12,
   "id": "8dff2568-928f-4074-8755-49f41732d6a9",
   "metadata": {},
   "outputs": [
    {
     "name": "stdout",
     "output_type": "stream",
     "text": [
      "True\n",
      "True\n",
      "True\n",
      "True\n",
      "True\n",
      "True\n"
     ]
    }
   ],
   "source": [
    "print(number_negatives('E') == 1)\n",
    "print(number_negatives('D') == 1)\n",
    "print(number_negatives('') == 0)\n",
    "print(number_negatives('ACKLWTTAE') == 1)\n",
    "print(number_negatives('DDDDEEEE') == 8)\n",
    "print(number_negatives('acklwttae') == 1)"
   ]
  },
  {
   "cell_type": "code",
   "execution_count": 13,
   "id": "1f06c91a-f9cc-4eb8-b092-078ecea50f75",
   "metadata": {},
   "outputs": [
    {
     "data": {
      "text/plain": [
       "True"
      ]
     },
     "execution_count": 13,
     "metadata": {},
     "output_type": "execute_result"
    }
   ],
   "source": [
    "number_negatives('acklwttae') == 1"
   ]
  },
  {
   "cell_type": "code",
   "execution_count": 15,
   "id": "43a47ba6-2848-4117-9999-a9a71cc7e00f",
   "metadata": {},
   "outputs": [],
   "source": [
    "assert number_negatives('E') == 1"
   ]
  },
  {
   "cell_type": "code",
   "execution_count": 17,
   "id": "22701bb9-840e-4f54-b62a-afe69ce587d5",
   "metadata": {},
   "outputs": [
    {
     "ename": "AssertionError",
     "evalue": "",
     "output_type": "error",
     "traceback": [
      "\u001b[0;31m---------------------------------------------------------------------------\u001b[0m",
      "\u001b[0;31mAssertionError\u001b[0m                            Traceback (most recent call last)",
      "Cell \u001b[0;32mIn[17], line 1\u001b[0m\n\u001b[0;32m----> 1\u001b[0m \u001b[38;5;28;01massert\u001b[39;00m number_negatives(\u001b[38;5;124m'\u001b[39m\u001b[38;5;124mE\u001b[39m\u001b[38;5;124m'\u001b[39m) \u001b[38;5;241m==\u001b[39m \u001b[38;5;241m2\u001b[39m\n",
      "\u001b[0;31mAssertionError\u001b[0m: "
     ]
    }
   ],
   "source": [
    "assert number_negatives('E') == 2"
   ]
  },
  {
   "cell_type": "code",
   "execution_count": 18,
   "id": "1efeba05-941e-44c6-b006-bc034ae217c9",
   "metadata": {},
   "outputs": [
    {
     "ename": "AssertionError",
     "evalue": "Failed on sequence of length 1",
     "output_type": "error",
     "traceback": [
      "\u001b[0;31m---------------------------------------------------------------------------\u001b[0m",
      "\u001b[0;31mAssertionError\u001b[0m                            Traceback (most recent call last)",
      "Cell \u001b[0;32mIn[18], line 1\u001b[0m\n\u001b[0;32m----> 1\u001b[0m \u001b[38;5;28;01massert\u001b[39;00m number_negatives(\u001b[38;5;124m'\u001b[39m\u001b[38;5;124mE\u001b[39m\u001b[38;5;124m'\u001b[39m) \u001b[38;5;241m==\u001b[39m \u001b[38;5;241m2\u001b[39m, \u001b[38;5;124m'\u001b[39m\u001b[38;5;124mFailed on sequence of length 1\u001b[39m\u001b[38;5;124m'\u001b[39m\n",
      "\u001b[0;31mAssertionError\u001b[0m: Failed on sequence of length 1"
     ]
    }
   ],
   "source": [
    "assert number_negatives('E') == 2, 'Failed on sequence of length 1'"
   ]
  },
  {
   "cell_type": "code",
   "execution_count": 21,
   "id": "d2a55d81-039c-4ac1-a443-a3518b7098da",
   "metadata": {},
   "outputs": [],
   "source": [
    "def test_number_negatives():\n",
    "    \"\"\"Perform unit tests on number_negatives.\"\"\"\n",
    "    assert number_negatives('E') == 1\n",
    "    assert number_negatives('D') == 1\n",
    "    assert number_negatives('') == 0\n",
    "    assert number_negatives('ACKLWTTAE') == 1\n",
    "    assert number_negatives('DDDDEEEE') == 8\n",
    "    assert number_negatives('acklwttae') == 1\n",
    "\n",
    "# Run all the tests\n",
    "test_number_negatives()"
   ]
  },
  {
   "cell_type": "code",
   "execution_count": 25,
   "id": "c3e3aabf-77cd-4aff-83cc-b338b11a3ee0",
   "metadata": {},
   "outputs": [
    {
     "name": "stdout",
     "output_type": "stream",
     "text": [
      "\u001b[1m============================= test session starts ==============================\u001b[0m\n",
      "platform darwin -- Python 3.10.15, pytest-8.3.3, pluggy-1.5.0\n",
      "rootdir: /Users/sophiesiemsgluess/git/bootcamp\n",
      "plugins: anyio-4.6.2.post1\n",
      "collected 1 item                                                               \u001b[0m\n",
      "\n",
      "seq_features_and_tests.py \u001b[32m.\u001b[0m\u001b[32m                                              [100%]\u001b[0m\n",
      "\n",
      "\u001b[32m============================== \u001b[32m\u001b[1m1 passed\u001b[0m\u001b[32m in 0.01s\u001b[0m\u001b[32m ===============================\u001b[0m\n"
     ]
    }
   ],
   "source": [
    "!pytest seq_features_and_tests.py"
   ]
  },
  {
   "cell_type": "code",
   "execution_count": 26,
   "id": "03a111ca-b719-4de1-a967-baadf2248755",
   "metadata": {},
   "outputs": [
    {
     "name": "stdout",
     "output_type": "stream",
     "text": [
      "\u001b[1m============================= test session starts ==============================\u001b[0m\n",
      "platform darwin -- Python 3.10.15, pytest-8.3.3, pluggy-1.5.0 -- /Users/sophiesiemsgluess/venv-3.10/bin/python3.10\n",
      "cachedir: .pytest_cache\n",
      "rootdir: /Users/sophiesiemsgluess/git/bootcamp\n",
      "plugins: anyio-4.6.2.post1\n",
      "collected 1 item                                                               \u001b[0m\n",
      "\n",
      "seq_features_and_tests.py::test_number_negatives \u001b[32mPASSED\u001b[0m\u001b[32m                  [100%]\u001b[0m\n",
      "\n",
      "\u001b[32m============================== \u001b[32m\u001b[1m1 passed\u001b[0m\u001b[32m in 0.00s\u001b[0m\u001b[32m ===============================\u001b[0m\n"
     ]
    }
   ],
   "source": [
    "!pytest -v seq_features_and_tests.py"
   ]
  },
  {
   "cell_type": "code",
   "execution_count": 27,
   "id": "1ab69261-3b43-4dab-9c95-6ce62cf85d55",
   "metadata": {},
   "outputs": [
    {
     "name": "stdout",
     "output_type": "stream",
     "text": [
      "\u001b[1m============================= test session starts ==============================\u001b[0m\n",
      "platform darwin -- Python 3.10.15, pytest-8.3.3, pluggy-1.5.0 -- /Users/sophiesiemsgluess/venv-3.10/bin/python3.10\n",
      "cachedir: .pytest_cache\n",
      "rootdir: /Users/sophiesiemsgluess/git/bootcamp\n",
      "plugins: anyio-4.6.2.post1\n",
      "collected 0 items                                                              \u001b[0m\n",
      "\n",
      "\u001b[33m============================ \u001b[33mno tests ran\u001b[0m\u001b[33m in 0.01s\u001b[0m\u001b[33m =============================\u001b[0m\n"
     ]
    }
   ],
   "source": [
    "!pytest -v"
   ]
  },
  {
   "cell_type": "code",
   "execution_count": null,
   "id": "303f5cf9-f8be-490e-a715-9adfe380dad0",
   "metadata": {},
   "outputs": [],
   "source": []
  }
 ],
 "metadata": {
  "kernelspec": {
   "display_name": "venv-3.10",
   "language": "python",
   "name": "venv-3.10"
  },
  "language_info": {
   "codemirror_mode": {
    "name": "ipython",
    "version": 3
   },
   "file_extension": ".py",
   "mimetype": "text/x-python",
   "name": "python",
   "nbconvert_exporter": "python",
   "pygments_lexer": "ipython3",
   "version": "3.10.15"
  }
 },
 "nbformat": 4,
 "nbformat_minor": 5
}
